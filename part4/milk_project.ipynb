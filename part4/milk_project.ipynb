{
 "cells": [
  {
   "cell_type": "markdown",
   "metadata": {},
   "source": [
    "# Project 4: Exploring the UK's milk imports and exports\n",
    "\n",
    "by Tomahawk Jupiter, 14 January 2024\n",
    "\n",
    "This is the project notebook for Part 4 of The Open University's _Learn to Code for Data Analysis_ course."
   ]
  },
  {
   "cell_type": "markdown",
   "metadata": {},
   "source": [
    "## Table of Contents\n",
    "\n",
    "- [The Project](#the-project)\n",
    "- [Getting and Preparing the Data](#getting-and-preparing-the-data)\n",
    "- [Questions](#questions)\n",
    "- [Extra Questions](#extra-questions)"
   ]
  },
  {
   "cell_type": "markdown",
   "metadata": {},
   "source": [
    "## The Project"
   ]
  },
  {
   "cell_type": "markdown",
   "metadata": {},
   "source": [
    "A country's economy depends, sometimes heavily, on its exports and imports. The United Nations Comtrade database provides data on global trade. It will be used to analyse the UK's imports and exports of two categories of milk products in 2014:\n",
    "\n",
    "1. How much does the UK export and import and is the balance positive (more exports than imports)? \n",
    "2. Which are the main trading partners, i.e. from/to which countries does the UK import/export the most?\n",
    "3. Which are the regular customers, i.e. which countries buy milk from the UK every month?\n",
    "4. Which countries does the UK both import from and export to?"
   ]
  },
  {
   "cell_type": "markdown",
   "metadata": {},
   "source": [
    "Extra questions:\n",
    "\n",
    "1. Which are the regular exporters, i.e. which countries sell every month both unprocessed and processed milk and cream to the UK?\n",
    "1. Where could the export market be further developed, i.e. which countries import the least? Do the figures look realistic?"
   ]
  },
  {
   "cell_type": "code",
   "execution_count": 189,
   "metadata": {},
   "outputs": [
    {
     "name": "stdout",
     "output_type": "stream",
     "text": [
      "1.4.4\n"
     ]
    }
   ],
   "source": [
    "import pandas as pd\n",
    "print(pd.__version__)\n",
    "%matplotlib inline"
   ]
  },
  {
   "cell_type": "markdown",
   "metadata": {},
   "source": [
    "## Getting and preparing the data\n",
    "\n",
    "The data is obtained from the [United Nations Comtrade website](http://comtrade.un.org/data/) by selecting the following configuration (go to andvanced search page):\n",
    "\n",
    "- type of Product: goods\n",
    "- Frequency: monthly\n",
    "- Period: 2014\n",
    "- Reporter: United Kingdom\n",
    "- Partners: all\n",
    "- Flow: imports and exports\n",
    "- HS (as reported) commodity codes: 0401 (Milk and cream, neither concentrated nor sweetened) and 0402 (Milk and cream, concentrated or sweetened)"
   ]
  },
  {
   "cell_type": "code",
   "execution_count": 190,
   "metadata": {},
   "outputs": [
    {
     "data": {
      "text/html": [
       "<div>\n",
       "<style scoped>\n",
       "    .dataframe tbody tr th:only-of-type {\n",
       "        vertical-align: middle;\n",
       "    }\n",
       "\n",
       "    .dataframe tbody tr th {\n",
       "        vertical-align: top;\n",
       "    }\n",
       "\n",
       "    .dataframe thead th {\n",
       "        text-align: right;\n",
       "    }\n",
       "</style>\n",
       "<table border=\"1\" class=\"dataframe\">\n",
       "  <thead>\n",
       "    <tr style=\"text-align: right;\">\n",
       "      <th></th>\n",
       "      <th>TypeCode</th>\n",
       "      <th>FreqCode</th>\n",
       "      <th>RefPeriodId</th>\n",
       "      <th>RefYear</th>\n",
       "      <th>RefMonth</th>\n",
       "      <th>Period</th>\n",
       "      <th>ReporterCode</th>\n",
       "      <th>ReporterISO</th>\n",
       "      <th>ReporterDesc</th>\n",
       "      <th>FlowCode</th>\n",
       "      <th>...</th>\n",
       "      <th>IsNetWgtEstimated</th>\n",
       "      <th>GrossWgt</th>\n",
       "      <th>IsGrossWgtEstimated</th>\n",
       "      <th>Cifvalue</th>\n",
       "      <th>Fobvalue</th>\n",
       "      <th>PrimaryValue</th>\n",
       "      <th>LegacyEstimationFlag</th>\n",
       "      <th>IsReported</th>\n",
       "      <th>IsAggregate</th>\n",
       "      <th>Unnamed: 47</th>\n",
       "    </tr>\n",
       "  </thead>\n",
       "  <tbody>\n",
       "    <tr>\n",
       "      <th>0</th>\n",
       "      <td>C</td>\n",
       "      <td>M</td>\n",
       "      <td>20140501</td>\n",
       "      <td>2014</td>\n",
       "      <td>5</td>\n",
       "      <td>201405</td>\n",
       "      <td>826</td>\n",
       "      <td>GBR</td>\n",
       "      <td>United Kingdom</td>\n",
       "      <td>M</td>\n",
       "      <td>...</td>\n",
       "      <td>False</td>\n",
       "      <td>0</td>\n",
       "      <td>False</td>\n",
       "      <td>2.166566e+07</td>\n",
       "      <td>0.0</td>\n",
       "      <td>2.166566e+07</td>\n",
       "      <td>0</td>\n",
       "      <td>False</td>\n",
       "      <td>True</td>\n",
       "      <td>NaN</td>\n",
       "    </tr>\n",
       "  </tbody>\n",
       "</table>\n",
       "<p>1 rows × 48 columns</p>\n",
       "</div>"
      ],
      "text/plain": [
       "  TypeCode FreqCode  RefPeriodId  RefYear  RefMonth  Period  ReporterCode  \\\n",
       "0        C        M     20140501     2014         5  201405           826   \n",
       "\n",
       "  ReporterISO    ReporterDesc FlowCode  ... IsNetWgtEstimated  GrossWgt  \\\n",
       "0         GBR  United Kingdom        M  ...             False         0   \n",
       "\n",
       "  IsGrossWgtEstimated      Cifvalue  Fobvalue  PrimaryValue  \\\n",
       "0               False  2.166566e+07       0.0  2.166566e+07   \n",
       "\n",
       "  LegacyEstimationFlag IsReported IsAggregate  Unnamed: 47  \n",
       "0                    0      False        True          NaN  \n",
       "\n",
       "[1 rows x 48 columns]"
      ]
     },
     "execution_count": 190,
     "metadata": {},
     "output_type": "execute_result"
    }
   ],
   "source": [
    "CSV_FILE = 'uk_milk_export_import.csv'\n",
    "milk = pd.read_csv(CSV_FILE, encoding='ISO-8859-1', dtype={'CmdCode':str})\n",
    "milk.head(1)"
   ]
  },
  {
   "cell_type": "markdown",
   "metadata": {},
   "source": [
    "### Select Columns\n",
    "\n",
    "There are alot of columns I don't need. First I look at the columns so I can decide which ones to keep."
   ]
  },
  {
   "cell_type": "code",
   "execution_count": 191,
   "metadata": {},
   "outputs": [
    {
     "data": {
      "text/plain": [
       "Index(['TypeCode', 'FreqCode', 'RefPeriodId', 'RefYear', 'RefMonth', 'Period',\n",
       "       'ReporterCode', 'ReporterISO', 'ReporterDesc', 'FlowCode', 'FlowDesc',\n",
       "       'PartnerCode', 'PartnerISO', 'PartnerDesc', 'Partner2Code',\n",
       "       'Partner2ISO', 'Partner2Desc', 'ClassificationCode',\n",
       "       'ClassificationSearchCode', 'IsOriginalClassification', 'CmdCode',\n",
       "       'CmdDesc', 'AggrLevel', 'IsLeaf', 'CustomsCode', 'CustomsDesc',\n",
       "       'MosCode', 'MotCode', 'MotDesc', 'QtyUnitCode', 'QtyUnitAbbr', 'Qty',\n",
       "       'IsQtyEstimated', 'AltQtyUnitCode', 'AltQtyUnitAbbr', 'AtlQty',\n",
       "       'IsAltQtyEstimated', 'NetWgt', 'IsNetWgtEstimated', 'GrossWgt',\n",
       "       'IsGrossWgtEstimated', 'Cifvalue', 'Fobvalue', 'PrimaryValue',\n",
       "       'LegacyEstimationFlag', 'IsReported', 'IsAggregate', 'Unnamed: 47'],\n",
       "      dtype='object')"
      ]
     },
     "execution_count": 191,
     "metadata": {},
     "output_type": "execute_result"
    }
   ],
   "source": [
    "milk.columns"
   ]
  },
  {
   "cell_type": "code",
   "execution_count": 192,
   "metadata": {},
   "outputs": [],
   "source": [
    "COLUMNS = ['RefMonth', 'FlowDesc', 'PartnerDesc', 'CmdCode', 'PrimaryValue']\n",
    "\n",
    "milk = milk[COLUMNS]"
   ]
  },
  {
   "cell_type": "markdown",
   "metadata": {},
   "source": [
    "### Rename Columns"
   ]
  },
  {
   "cell_type": "code",
   "execution_count": 193,
   "metadata": {},
   "outputs": [
    {
     "data": {
      "text/html": [
       "<div>\n",
       "<style scoped>\n",
       "    .dataframe tbody tr th:only-of-type {\n",
       "        vertical-align: middle;\n",
       "    }\n",
       "\n",
       "    .dataframe tbody tr th {\n",
       "        vertical-align: top;\n",
       "    }\n",
       "\n",
       "    .dataframe thead th {\n",
       "        text-align: right;\n",
       "    }\n",
       "</style>\n",
       "<table border=\"1\" class=\"dataframe\">\n",
       "  <thead>\n",
       "    <tr style=\"text-align: right;\">\n",
       "      <th></th>\n",
       "      <th>Month Number</th>\n",
       "      <th>Trade Flow</th>\n",
       "      <th>Partner</th>\n",
       "      <th>Commodity</th>\n",
       "      <th>Trade Value ($)</th>\n",
       "    </tr>\n",
       "  </thead>\n",
       "  <tbody>\n",
       "    <tr>\n",
       "      <th>0</th>\n",
       "      <td>5</td>\n",
       "      <td>Import</td>\n",
       "      <td>World</td>\n",
       "      <td>0401</td>\n",
       "      <td>2.166566e+07</td>\n",
       "    </tr>\n",
       "  </tbody>\n",
       "</table>\n",
       "</div>"
      ],
      "text/plain": [
       "   Month Number Trade Flow Partner Commodity  Trade Value ($)\n",
       "0             5     Import   World      0401     2.166566e+07"
      ]
     },
     "execution_count": 193,
     "metadata": {},
     "output_type": "execute_result"
    }
   ],
   "source": [
    "milk = milk.rename(columns={'RefMonth':'Month Number', 'FlowDesc': 'Trade Flow', 'PartnerDesc': 'Partner', 'CmdCode': 'Commodity', 'PrimaryValue': 'Trade Value ($)'})\n",
    "milk.head(1)"
   ]
  },
  {
   "cell_type": "markdown",
   "metadata": {},
   "source": [
    "I change the commodity code into a short text description and add a column for month names, this might be useful later."
   ]
  },
  {
   "cell_type": "code",
   "execution_count": 194,
   "metadata": {},
   "outputs": [
    {
     "data": {
      "text/html": [
       "<div>\n",
       "<style scoped>\n",
       "    .dataframe tbody tr th:only-of-type {\n",
       "        vertical-align: middle;\n",
       "    }\n",
       "\n",
       "    .dataframe tbody tr th {\n",
       "        vertical-align: top;\n",
       "    }\n",
       "\n",
       "    .dataframe thead th {\n",
       "        text-align: right;\n",
       "    }\n",
       "</style>\n",
       "<table border=\"1\" class=\"dataframe\">\n",
       "  <thead>\n",
       "    <tr style=\"text-align: right;\">\n",
       "      <th></th>\n",
       "      <th>Month Number</th>\n",
       "      <th>Trade Flow</th>\n",
       "      <th>Partner</th>\n",
       "      <th>Commodity</th>\n",
       "      <th>Trade Value ($)</th>\n",
       "      <th>Month Name</th>\n",
       "    </tr>\n",
       "  </thead>\n",
       "  <tbody>\n",
       "    <tr>\n",
       "      <th>0</th>\n",
       "      <td>5</td>\n",
       "      <td>Import</td>\n",
       "      <td>World</td>\n",
       "      <td>unprocessed</td>\n",
       "      <td>2.166566e+07</td>\n",
       "      <td>May</td>\n",
       "    </tr>\n",
       "  </tbody>\n",
       "</table>\n",
       "</div>"
      ],
      "text/plain": [
       "   Month Number Trade Flow Partner    Commodity  Trade Value ($) Month Name\n",
       "0             5     Import   World  unprocessed     2.166566e+07        May"
      ]
     },
     "execution_count": 194,
     "metadata": {},
     "output_type": "execute_result"
    }
   ],
   "source": [
    "def commodity_to_text(code):\n",
    "  if code == '0401':\n",
    "    return 'unprocessed'\n",
    "  if code == '0402':\n",
    "    return 'processed'\n",
    "  return 'unknown'\n",
    "\n",
    "def get_month_name(month_number):\n",
    "  if 1 <= month_number <= 12:\n",
    "    months = [\"January\", \"February\", \"March\", \"April\", \"May\", \"June\", \"July\", \"August\", \"September\", \"October\", \"November\", \"December\"]\n",
    "    return months[month_number - 1]\n",
    "  else:\n",
    "    return \"Invalid\"\n",
    "\n",
    "\n",
    "COMMODITY = 'Commodity'\n",
    "MONTH_NUMBER = 'Month Number'\n",
    "MONTH_NAME = 'Month Name'\n",
    "FLOW = 'Trade Flow'\n",
    "PARTNER = 'Partner'\n",
    "VALUE = 'Trade Value ($)'\n",
    "\n",
    "milk[COMMODITY] = milk[COMMODITY].apply(commodity_to_text)\n",
    "milk[MONTH_NAME] = milk[MONTH_NUMBER].apply(get_month_name)\n",
    "milk.head(1)"
   ]
  },
  {
   "cell_type": "markdown",
   "metadata": {},
   "source": [
    "### Keep only individual countries\n"
   ]
  },
  {
   "cell_type": "code",
   "execution_count": 195,
   "metadata": {},
   "outputs": [],
   "source": [
    "milk = milk[milk[PARTNER] != 'World']"
   ]
  },
  {
   "cell_type": "markdown",
   "metadata": {},
   "source": [
    "## Questions"
   ]
  },
  {
   "cell_type": "markdown",
   "metadata": {},
   "source": [
    "### Q1. How much does the UK export and import and is the balance positive (more exports than imports)? "
   ]
  },
  {
   "cell_type": "markdown",
   "metadata": {},
   "source": [
    "I group by trade flow and aggregate by adding the Trade Values for each group. After doing this I see that Exports are higher than Imports, I then calculate the difference and format the result to make it easier to read."
   ]
  },
  {
   "cell_type": "code",
   "execution_count": 196,
   "metadata": {},
   "outputs": [
    {
     "data": {
      "text/plain": [
       "Trade Flow\n",
       "Export    8.986520e+08\n",
       "Import    5.638849e+08\n",
       "Name: Trade Value ($), dtype: float64"
      ]
     },
     "execution_count": 196,
     "metadata": {},
     "output_type": "execute_result"
    }
   ],
   "source": [
    "flow_groups = milk.groupby(FLOW)[VALUE].agg(sum)\n",
    "flow_groups"
   ]
  },
  {
   "cell_type": "code",
   "execution_count": 197,
   "metadata": {},
   "outputs": [
    {
     "name": "stdout",
     "output_type": "stream",
     "text": [
      "There are $335 million more exports than there are imports.\n"
     ]
    }
   ],
   "source": [
    "\n",
    "difference = flow_groups.max() - flow_groups.min()\n",
    "format_result = round(difference / 1_000_000)\n",
    "print(f\"There are ${format_result} million more exports than there are imports.\")"
   ]
  },
  {
   "cell_type": "markdown",
   "metadata": {},
   "source": [
    "### Q2. Which are the main trading partners, i.e. from/to which countries does the UK import/export the most?"
   ]
  },
  {
   "cell_type": "markdown",
   "metadata": {},
   "source": [
    "#### Combined imports and exports\n",
    "\n",
    "I group by country and add all trade values together. I sort in descending order, this will put the top partners at the top."
   ]
  },
  {
   "cell_type": "code",
   "execution_count": 198,
   "metadata": {},
   "outputs": [
    {
     "name": "stdout",
     "output_type": "stream",
     "text": [
      "The UK trades with 120 countries.\n",
      "It's top five trade partners are:\n"
     ]
    },
    {
     "data": {
      "text/plain": [
       "Partner\n",
       "Ireland        5.955443e+08\n",
       "Netherlands    1.408583e+08\n",
       "France         1.396312e+08\n",
       "Germany        1.127093e+08\n",
       "Algeria        9.375384e+07\n",
       "Name: Trade Value ($), dtype: float64"
      ]
     },
     "execution_count": 198,
     "metadata": {},
     "output_type": "execute_result"
    }
   ],
   "source": [
    "partner_totals = milk.groupby(PARTNER)[VALUE].agg(sum)\n",
    "num_of_partners = len(partner_totals)\n",
    "\n",
    "print(f\"The UK trades with {num_of_partners} countries.\\nIt's top five trade partners are:\")\n",
    "partner_totals.sort_values(ascending=False)[:5]"
   ]
  },
  {
   "cell_type": "markdown",
   "metadata": {},
   "source": [
    "#### Import and Export Breakdown\n",
    "\n",
    "Then I seperate by Export and Import and do the same."
   ]
  },
  {
   "cell_type": "code",
   "execution_count": 199,
   "metadata": {},
   "outputs": [
    {
     "name": "stdout",
     "output_type": "stream",
     "text": [
      "The UK exports to 120 countries. The top 5 are:\n",
      "\n",
      "Partner\n",
      "Ireland        4.212284e+08\n",
      "Algeria        9.375384e+07\n",
      "Netherlands    6.864908e+07\n",
      "Germany        3.609663e+07\n",
      "France         3.462298e+07\n",
      "Name: Trade Value ($), dtype: float64 \n",
      "\n",
      "The UK imports from 25 countries. The top 5 are:\n",
      "\n",
      "Partner\n",
      "Ireland        1.743159e+08\n",
      "France         1.050082e+08\n",
      "Germany        7.661270e+07\n",
      "Netherlands    7.220923e+07\n",
      "Belgium        5.833875e+07\n",
      "Name: Trade Value ($), dtype: float64\n"
     ]
    }
   ],
   "source": [
    "\n",
    "exports = milk[milk[FLOW] == 'Export']\n",
    "imports = milk[milk[FLOW] == 'Import']\n",
    "\n",
    "top_exports = exports.groupby(PARTNER)[VALUE].agg(sum).sort_values(ascending=False)\n",
    "top_imports = imports.groupby(PARTNER)[VALUE].agg(sum).sort_values(ascending=False)\n",
    "\n",
    "top_5_exports = top_exports[:5]\n",
    "top_5_imports = top_imports[:5]\n",
    "\n",
    "print(f\"The UK exports to {len(top_exports)} countries. The top 5 are:\\n\")\n",
    "print(top_5_exports, '\\n')\n",
    "\n",
    "print(f\"The UK imports from {len(top_imports)} countries. The top 5 are:\\n\")\n",
    "print(top_5_imports)\n"
   ]
  },
  {
   "cell_type": "markdown",
   "metadata": {},
   "source": [
    "I look at the overlap between top export and import partners. All but one country is in both top fives, though in different orders. "
   ]
  },
  {
   "cell_type": "code",
   "execution_count": 200,
   "metadata": {},
   "outputs": [
    {
     "name": "stdout",
     "output_type": "stream",
     "text": [
      "             Trade Value ($): Exports  Trade Value ($): Imports\n",
      "Partner                                                        \n",
      "France                   3.462298e+07              1.050082e+08\n",
      "Germany                  3.609663e+07              7.661270e+07\n",
      "Ireland                  4.212284e+08              1.743159e+08\n",
      "Netherlands              6.864908e+07              7.220923e+07\n"
     ]
    },
    {
     "data": {
      "text/plain": [
       "Text(0.5, 1.0, 'Countries that are in top 5 for either Exports OR Imports')"
      ]
     },
     "execution_count": 200,
     "metadata": {},
     "output_type": "execute_result"
    },
    {
     "data": {
      "image/png": "[encoded data removed]",
      "text/plain": [
       "<Figure size 640x480 with 1 Axes>"
      ]
     },
     "metadata": {},
     "output_type": "display_data"
    },
    {
     "data": {
      "image/png": "[encoded data removed]",
      "text/plain": [
       "<Figure size 640x480 with 1 Axes>"
      ]
     },
     "metadata": {},
     "output_type": "display_data"
    }
   ],
   "source": [
    "appears_in_both = pd.merge(top_5_exports, top_5_imports, on=PARTNER, how='inner', suffixes=(': Exports', ': Imports')).sort_index()\n",
    "print(appears_in_both)\n",
    "appears_in_both.plot(kind='barh').set_title('Countries that are in top 5 for both Exports AND Imports')\n",
    "\n",
    "combined = pd.merge(top_5_exports, top_5_imports, on=PARTNER, how='outer', suffixes=(': Exports', ': Imports')).sort_index()\n",
    "combined.plot(kind='barh').set_title('Countries that are in top 5 for either Exports OR Imports')\n",
    "\n"
   ]
  },
  {
   "cell_type": "markdown",
   "metadata": {},
   "source": [
    "### Q3. Which are the regular customers, i.e. which countries buy milk from the UK every month?\n",
    "\n",
    "First I broke it down by processed and unprocessed, then both together."
   ]
  },
  {
   "cell_type": "code",
   "execution_count": 201,
   "metadata": {},
   "outputs": [
    {
     "name": "stdout",
     "output_type": "stream",
     "text": [
      "There are 24 countries that import 'PROCESSED' milk every month. The top 5 are:\n",
      "\n",
      "                      Months Traded  Total Trade ($)\n",
      "Partner                                             \n",
      "Ireland                          12     9.488987e+07\n",
      "Algeria                          12     9.375384e+07\n",
      "Netherlands                      12     4.751867e+07\n",
      "Germany                          12     2.478568e+07\n",
      "China, Hong Kong SAR             12     1.552436e+07 \n",
      "\n",
      "There are 16 countries that import 'UNPROCESSED' milk every month. The top 5 are:\n",
      "\n",
      "             Months Traded  Total Trade ($)\n",
      "Partner                                    \n",
      "Ireland                 12     3.263386e+08\n",
      "France                  12     2.559754e+07\n",
      "Belgium                 12     2.304178e+07\n",
      "Netherlands             12     2.113041e+07\n",
      "China                   12     1.180622e+07\n"
     ]
    }
   ],
   "source": [
    "def imports_every_month(group):\n",
    "  return len(group) == 12\n",
    "\n",
    "# imports.groupby(PARTNER).filter(imports_every_month)\n",
    "imports_unprocessed = exports[exports[COMMODITY] == 'unprocessed']\n",
    "imports_processed = exports[exports[COMMODITY] == 'processed']\n",
    "\n",
    "imports_processed_every_month = imports_processed.groupby(PARTNER).filter(imports_every_month)\n",
    "imports_unprocessed_every_month = imports_unprocessed.groupby(PARTNER).filter(imports_every_month)\n",
    "\n",
    "imports_processed_every_month_group = imports_processed_every_month.groupby(PARTNER)[VALUE].agg(['size', sum]).sort_values('sum', ascending=False).rename(columns={'size':'Months Traded', 'sum': 'Total Trade ($)'})\n",
    "imports_unprocessed_every_month_group = imports_unprocessed_every_month.groupby(PARTNER)[VALUE].agg(['size', sum]).sort_values('sum', ascending=False).rename(columns={'size':'Months Traded', 'sum': 'Total Trade ($)'})\n",
    "\n",
    "print(f\"There are {len(imports_processed_every_month_group)} countries that import 'PROCESSED' milk every month. The top 5 are:\\n\")\n",
    "print(imports_processed_every_month_group[:5], '\\n')\n",
    "\n",
    "print(f\"There are {len(imports_unprocessed_every_month_group)} countries that import 'UNPROCESSED' milk every month. The top 5 are:\\n\")\n",
    "print(imports_unprocessed_every_month_group[:5])\n"
   ]
  },
  {
   "cell_type": "code",
   "execution_count": 202,
   "metadata": {},
   "outputs": [
    {
     "name": "stdout",
     "output_type": "stream",
     "text": [
      "There are 14 countries that import both processed and unprocessed milk every month. The top 5 are:\n",
      "\n"
     ]
    },
    {
     "data": {
      "text/html": [
       "<div>\n",
       "<style scoped>\n",
       "    .dataframe tbody tr th:only-of-type {\n",
       "        vertical-align: middle;\n",
       "    }\n",
       "\n",
       "    .dataframe tbody tr th {\n",
       "        vertical-align: top;\n",
       "    }\n",
       "\n",
       "    .dataframe thead th {\n",
       "        text-align: right;\n",
       "    }\n",
       "</style>\n",
       "<table border=\"1\" class=\"dataframe\">\n",
       "  <thead>\n",
       "    <tr style=\"text-align: right;\">\n",
       "      <th></th>\n",
       "      <th>size</th>\n",
       "      <th>sum</th>\n",
       "    </tr>\n",
       "    <tr>\n",
       "      <th>Partner</th>\n",
       "      <th></th>\n",
       "      <th></th>\n",
       "    </tr>\n",
       "  </thead>\n",
       "  <tbody>\n",
       "    <tr>\n",
       "      <th>Ireland</th>\n",
       "      <td>24</td>\n",
       "      <td>4.212284e+08</td>\n",
       "    </tr>\n",
       "    <tr>\n",
       "      <th>Netherlands</th>\n",
       "      <td>24</td>\n",
       "      <td>6.864908e+07</td>\n",
       "    </tr>\n",
       "    <tr>\n",
       "      <th>Germany</th>\n",
       "      <td>24</td>\n",
       "      <td>3.609663e+07</td>\n",
       "    </tr>\n",
       "    <tr>\n",
       "      <th>France</th>\n",
       "      <td>24</td>\n",
       "      <td>3.462298e+07</td>\n",
       "    </tr>\n",
       "    <tr>\n",
       "      <th>Belgium</th>\n",
       "      <td>24</td>\n",
       "      <td>2.934301e+07</td>\n",
       "    </tr>\n",
       "  </tbody>\n",
       "</table>\n",
       "</div>"
      ],
      "text/plain": [
       "             size           sum\n",
       "Partner                        \n",
       "Ireland        24  4.212284e+08\n",
       "Netherlands    24  6.864908e+07\n",
       "Germany        24  3.609663e+07\n",
       "France         24  3.462298e+07\n",
       "Belgium        24  2.934301e+07"
      ]
     },
     "execution_count": 202,
     "metadata": {},
     "output_type": "execute_result"
    }
   ],
   "source": [
    "import_both_every_month = pd.concat([imports_unprocessed_every_month, imports_processed_every_month])\n",
    "# import_both_every_month.groupby(PARTNER).size().apply(lambda x: x == 24)\n",
    "\n",
    "def both_all(g):\n",
    "  return len(g) == 24\n",
    "\n",
    "import_both_every_month_group = import_both_every_month.groupby(PARTNER).filter(both_all).groupby(PARTNER)[VALUE].agg(['size', sum])\n",
    "\n",
    "print(f\"There are {len(import_both_every_month_group)} countries that import both processed and unprocessed milk every month. The top 5 are:\\n\")\n",
    "import_both_every_month_group.sort_values('sum', ascending=False)[:5]\n",
    "\n"
   ]
  },
  {
   "cell_type": "code",
   "execution_count": 203,
   "metadata": {},
   "outputs": [
    {
     "name": "stdout",
     "output_type": "stream",
     "text": [
      "Regular importers account for 71.75% of total UK exports.\n"
     ]
    }
   ],
   "source": [
    "regular_importer_percentage_of_total = (import_both_every_month_group['sum'].sum() / exports[VALUE].sum()) * 100\n",
    "\n",
    "print(f\"Regular importers account for {round(regular_importer_percentage_of_total, 2)}% of total UK exports.\")"
   ]
  },
  {
   "cell_type": "markdown",
   "metadata": {},
   "source": [
    "### Q4. Which countries does the UK both import from and export to?\n",
    "\n",
    "I use a pivot table and drop na, this will remove rows that don't have both an import and export value. Including margins when creating the pivot table will add up the values in the rows and columns, adding a new row and a column for the totals. I drop the row margin because that adds all the rows together and what I want is the total for the columns."
   ]
  },
  {
   "cell_type": "code",
   "execution_count": 204,
   "metadata": {},
   "outputs": [
    {
     "name": "stdout",
     "output_type": "stream",
     "text": [
      "There are 25 countries that the UK imports and exports with. The top 10 are:\n"
     ]
    },
    {
     "data": {
      "text/html": [
       "<div>\n",
       "<style scoped>\n",
       "    .dataframe tbody tr th:only-of-type {\n",
       "        vertical-align: middle;\n",
       "    }\n",
       "\n",
       "    .dataframe tbody tr th {\n",
       "        vertical-align: top;\n",
       "    }\n",
       "\n",
       "    .dataframe thead th {\n",
       "        text-align: right;\n",
       "    }\n",
       "</style>\n",
       "<table border=\"1\" class=\"dataframe\">\n",
       "  <thead>\n",
       "    <tr style=\"text-align: right;\">\n",
       "      <th>Trade Flow</th>\n",
       "      <th>Export</th>\n",
       "      <th>Import</th>\n",
       "      <th>Total</th>\n",
       "    </tr>\n",
       "    <tr>\n",
       "      <th>Partner</th>\n",
       "      <th></th>\n",
       "      <th></th>\n",
       "      <th></th>\n",
       "    </tr>\n",
       "  </thead>\n",
       "  <tbody>\n",
       "    <tr>\n",
       "      <th>Ireland</th>\n",
       "      <td>4.212284e+08</td>\n",
       "      <td>1.743159e+08</td>\n",
       "      <td>5.955443e+08</td>\n",
       "    </tr>\n",
       "    <tr>\n",
       "      <th>Netherlands</th>\n",
       "      <td>6.864908e+07</td>\n",
       "      <td>7.220923e+07</td>\n",
       "      <td>1.408583e+08</td>\n",
       "    </tr>\n",
       "    <tr>\n",
       "      <th>France</th>\n",
       "      <td>3.462298e+07</td>\n",
       "      <td>1.050082e+08</td>\n",
       "      <td>1.396312e+08</td>\n",
       "    </tr>\n",
       "    <tr>\n",
       "      <th>Germany</th>\n",
       "      <td>3.609663e+07</td>\n",
       "      <td>7.661270e+07</td>\n",
       "      <td>1.127093e+08</td>\n",
       "    </tr>\n",
       "    <tr>\n",
       "      <th>Belgium</th>\n",
       "      <td>2.934301e+07</td>\n",
       "      <td>5.833875e+07</td>\n",
       "      <td>8.768176e+07</td>\n",
       "    </tr>\n",
       "    <tr>\n",
       "      <th>Denmark</th>\n",
       "      <td>2.908456e+06</td>\n",
       "      <td>3.053465e+07</td>\n",
       "      <td>3.344310e+07</td>\n",
       "    </tr>\n",
       "    <tr>\n",
       "      <th>Spain</th>\n",
       "      <td>3.548530e+06</td>\n",
       "      <td>1.691955e+07</td>\n",
       "      <td>2.046808e+07</td>\n",
       "    </tr>\n",
       "    <tr>\n",
       "      <th>Poland</th>\n",
       "      <td>1.596375e+06</td>\n",
       "      <td>1.495991e+07</td>\n",
       "      <td>1.655629e+07</td>\n",
       "    </tr>\n",
       "    <tr>\n",
       "      <th>Sweden</th>\n",
       "      <td>9.153971e+04</td>\n",
       "      <td>6.376717e+06</td>\n",
       "      <td>6.468257e+06</td>\n",
       "    </tr>\n",
       "    <tr>\n",
       "      <th>United Arab Emirates</th>\n",
       "      <td>3.264367e+06</td>\n",
       "      <td>4.404499e+04</td>\n",
       "      <td>3.308412e+06</td>\n",
       "    </tr>\n",
       "    <tr>\n",
       "      <th>Romania</th>\n",
       "      <td>1.584401e+04</td>\n",
       "      <td>2.706178e+06</td>\n",
       "      <td>2.722022e+06</td>\n",
       "    </tr>\n",
       "    <tr>\n",
       "      <th>Italy</th>\n",
       "      <td>2.305751e+05</td>\n",
       "      <td>2.300834e+06</td>\n",
       "      <td>2.531409e+06</td>\n",
       "    </tr>\n",
       "    <tr>\n",
       "      <th>Finland</th>\n",
       "      <td>1.761426e+06</td>\n",
       "      <td>1.157900e+01</td>\n",
       "      <td>1.761438e+06</td>\n",
       "    </tr>\n",
       "    <tr>\n",
       "      <th>Czechia</th>\n",
       "      <td>1.475717e+05</td>\n",
       "      <td>1.254989e+06</td>\n",
       "      <td>1.402560e+06</td>\n",
       "    </tr>\n",
       "    <tr>\n",
       "      <th>USA</th>\n",
       "      <td>1.285144e+06</td>\n",
       "      <td>6.789638e+03</td>\n",
       "      <td>1.291934e+06</td>\n",
       "    </tr>\n",
       "    <tr>\n",
       "      <th>Austria</th>\n",
       "      <td>1.361935e+05</td>\n",
       "      <td>7.988162e+05</td>\n",
       "      <td>9.350097e+05</td>\n",
       "    </tr>\n",
       "    <tr>\n",
       "      <th>Slovakia</th>\n",
       "      <td>4.120880e+02</td>\n",
       "      <td>6.194243e+05</td>\n",
       "      <td>6.198363e+05</td>\n",
       "    </tr>\n",
       "    <tr>\n",
       "      <th>Lithuania</th>\n",
       "      <td>2.012709e+03</td>\n",
       "      <td>5.776576e+05</td>\n",
       "      <td>5.796703e+05</td>\n",
       "    </tr>\n",
       "    <tr>\n",
       "      <th>Portugal</th>\n",
       "      <td>9.410467e+04</td>\n",
       "      <td>2.468073e+05</td>\n",
       "      <td>3.409119e+05</td>\n",
       "    </tr>\n",
       "    <tr>\n",
       "      <th>Hungary</th>\n",
       "      <td>1.889324e+05</td>\n",
       "      <td>4.956790e+03</td>\n",
       "      <td>1.938892e+05</td>\n",
       "    </tr>\n",
       "    <tr>\n",
       "      <th>Luxembourg</th>\n",
       "      <td>1.713933e+04</td>\n",
       "      <td>2.372354e+04</td>\n",
       "      <td>4.086287e+04</td>\n",
       "    </tr>\n",
       "    <tr>\n",
       "      <th>Greece</th>\n",
       "      <td>3.698621e+04</td>\n",
       "      <td>6.740000e+00</td>\n",
       "      <td>3.699295e+04</td>\n",
       "    </tr>\n",
       "    <tr>\n",
       "      <th>New Zealand</th>\n",
       "      <td>5.075112e+03</td>\n",
       "      <td>1.929073e+04</td>\n",
       "      <td>2.436584e+04</td>\n",
       "    </tr>\n",
       "    <tr>\n",
       "      <th>Ukraine</th>\n",
       "      <td>2.586578e+03</td>\n",
       "      <td>3.733259e+03</td>\n",
       "      <td>6.319837e+03</td>\n",
       "    </tr>\n",
       "    <tr>\n",
       "      <th>Latvia</th>\n",
       "      <td>2.246320e+02</td>\n",
       "      <td>2.111000e+03</td>\n",
       "      <td>2.335632e+03</td>\n",
       "    </tr>\n",
       "  </tbody>\n",
       "</table>\n",
       "</div>"
      ],
      "text/plain": [
       "Trade Flow                  Export        Import         Total\n",
       "Partner                                                       \n",
       "Ireland               4.212284e+08  1.743159e+08  5.955443e+08\n",
       "Netherlands           6.864908e+07  7.220923e+07  1.408583e+08\n",
       "France                3.462298e+07  1.050082e+08  1.396312e+08\n",
       "Germany               3.609663e+07  7.661270e+07  1.127093e+08\n",
       "Belgium               2.934301e+07  5.833875e+07  8.768176e+07\n",
       "Denmark               2.908456e+06  3.053465e+07  3.344310e+07\n",
       "Spain                 3.548530e+06  1.691955e+07  2.046808e+07\n",
       "Poland                1.596375e+06  1.495991e+07  1.655629e+07\n",
       "Sweden                9.153971e+04  6.376717e+06  6.468257e+06\n",
       "United Arab Emirates  3.264367e+06  4.404499e+04  3.308412e+06\n",
       "Romania               1.584401e+04  2.706178e+06  2.722022e+06\n",
       "Italy                 2.305751e+05  2.300834e+06  2.531409e+06\n",
       "Finland               1.761426e+06  1.157900e+01  1.761438e+06\n",
       "Czechia               1.475717e+05  1.254989e+06  1.402560e+06\n",
       "USA                   1.285144e+06  6.789638e+03  1.291934e+06\n",
       "Austria               1.361935e+05  7.988162e+05  9.350097e+05\n",
       "Slovakia              4.120880e+02  6.194243e+05  6.198363e+05\n",
       "Lithuania             2.012709e+03  5.776576e+05  5.796703e+05\n",
       "Portugal              9.410467e+04  2.468073e+05  3.409119e+05\n",
       "Hungary               1.889324e+05  4.956790e+03  1.938892e+05\n",
       "Luxembourg            1.713933e+04  2.372354e+04  4.086287e+04\n",
       "Greece                3.698621e+04  6.740000e+00  3.699295e+04\n",
       "New Zealand           5.075112e+03  1.929073e+04  2.436584e+04\n",
       "Ukraine               2.586578e+03  3.733259e+03  6.319837e+03\n",
       "Latvia                2.246320e+02  2.111000e+03  2.335632e+03"
      ]
     },
     "execution_count": 204,
     "metadata": {},
     "output_type": "execute_result"
    }
   ],
   "source": [
    "countries_pivot = pd.pivot_table(\n",
    "  milk,\n",
    "  index=PARTNER,\n",
    "  columns=[FLOW],\n",
    "  values=VALUE,\n",
    "  aggfunc=sum,\n",
    "  margins=True,\n",
    "  margins_name='Total'\n",
    ")\n",
    "\n",
    "countries_pivot = countries_pivot.dropna().drop('Total')\n",
    "export_and_import_countries = countries_pivot.sort_values('Total', ascending=False)\n",
    "\n",
    "print(f\"There are {len(export_and_import_countries)} countries that the UK imports and exports with. The top 10 are:\")\n",
    "export_and_import_countries\n",
    "\n"
   ]
  },
  {
   "cell_type": "code",
   "execution_count": null,
   "metadata": {},
   "outputs": [],
   "source": []
  },
  {
   "cell_type": "markdown",
   "metadata": {},
   "source": [
    "## Extra Questions"
   ]
  },
  {
   "cell_type": "markdown",
   "metadata": {},
   "source": [
    "### Q1. Which are the regular exporters, i.e. which countries sell every month both unprocessed and processed milk and cream to the UK? "
   ]
  },
  {
   "cell_type": "code",
   "execution_count": 205,
   "metadata": {},
   "outputs": [
    {
     "name": "stdout",
     "output_type": "stream",
     "text": [
      "Countries that export both commodities to UK every month:\n"
     ]
    },
    {
     "data": {
      "text/html": [
       "<div>\n",
       "<style scoped>\n",
       "    .dataframe tbody tr th:only-of-type {\n",
       "        vertical-align: middle;\n",
       "    }\n",
       "\n",
       "    .dataframe tbody tr th {\n",
       "        vertical-align: top;\n",
       "    }\n",
       "\n",
       "    .dataframe thead th {\n",
       "        text-align: right;\n",
       "    }\n",
       "</style>\n",
       "<table border=\"1\" class=\"dataframe\">\n",
       "  <thead>\n",
       "    <tr style=\"text-align: right;\">\n",
       "      <th></th>\n",
       "      <th>sum</th>\n",
       "      <th>size</th>\n",
       "    </tr>\n",
       "    <tr>\n",
       "      <th>Partner</th>\n",
       "      <th></th>\n",
       "      <th></th>\n",
       "    </tr>\n",
       "  </thead>\n",
       "  <tbody>\n",
       "    <tr>\n",
       "      <th>Ireland</th>\n",
       "      <td>1.743159e+08</td>\n",
       "      <td>24</td>\n",
       "    </tr>\n",
       "    <tr>\n",
       "      <th>France</th>\n",
       "      <td>1.050082e+08</td>\n",
       "      <td>24</td>\n",
       "    </tr>\n",
       "    <tr>\n",
       "      <th>Germany</th>\n",
       "      <td>7.661270e+07</td>\n",
       "      <td>24</td>\n",
       "    </tr>\n",
       "    <tr>\n",
       "      <th>Netherlands</th>\n",
       "      <td>7.220923e+07</td>\n",
       "      <td>24</td>\n",
       "    </tr>\n",
       "    <tr>\n",
       "      <th>Belgium</th>\n",
       "      <td>5.833875e+07</td>\n",
       "      <td>24</td>\n",
       "    </tr>\n",
       "    <tr>\n",
       "      <th>Poland</th>\n",
       "      <td>1.495991e+07</td>\n",
       "      <td>24</td>\n",
       "    </tr>\n",
       "    <tr>\n",
       "      <th>Italy</th>\n",
       "      <td>2.300834e+06</td>\n",
       "      <td>24</td>\n",
       "    </tr>\n",
       "    <tr>\n",
       "      <th>Lithuania</th>\n",
       "      <td>5.776576e+05</td>\n",
       "      <td>24</td>\n",
       "    </tr>\n",
       "  </tbody>\n",
       "</table>\n",
       "</div>"
      ],
      "text/plain": [
       "                      sum  size\n",
       "Partner                        \n",
       "Ireland      1.743159e+08    24\n",
       "France       1.050082e+08    24\n",
       "Germany      7.661270e+07    24\n",
       "Netherlands  7.220923e+07    24\n",
       "Belgium      5.833875e+07    24\n",
       "Poland       1.495991e+07    24\n",
       "Italy        2.300834e+06    24\n",
       "Lithuania    5.776576e+05    24"
      ]
     },
     "execution_count": 205,
     "metadata": {},
     "output_type": "execute_result"
    }
   ],
   "source": [
    "def every_month(g):\n",
    "  return len(g) == 24\n",
    "\n",
    "exports_to_uk_every_month = imports.groupby(PARTNER).filter(every_month)\n",
    "\n",
    "print('Countries that export both commodities to UK every month:')\n",
    "exports_to_uk_every_month.groupby(PARTNER)[VALUE].agg([sum, 'size']).sort_values('sum', ascending=False)\n"
   ]
  },
  {
   "cell_type": "markdown",
   "metadata": {},
   "source": [
    "### Q2. Where could the export market be further developed, i.e. which countries import the least? Do the figures look realistic?\n",
    "\n",
    "I find the countries in the lower decile for importing from the UK, perhaps there is room for expanding exports to these countries. Some of the values look suspiciously low, eg. Slovenia $11.41."
   ]
  },
  {
   "cell_type": "code",
   "execution_count": 233,
   "metadata": {},
   "outputs": [
    {
     "name": "stdout",
     "output_type": "stream",
     "text": [
      "The mean for exports is $7488766.\n",
      "The median is $364597.\n",
      "The lower decile is $8216.\n",
      "\n",
      "Bottom 10% of importers\n"
     ]
    },
    {
     "data": {
      "text/html": [
       "<div>\n",
       "<style scoped>\n",
       "    .dataframe tbody tr th:only-of-type {\n",
       "        vertical-align: middle;\n",
       "    }\n",
       "\n",
       "    .dataframe tbody tr th {\n",
       "        vertical-align: top;\n",
       "    }\n",
       "\n",
       "    .dataframe thead th {\n",
       "        text-align: right;\n",
       "    }\n",
       "</style>\n",
       "<table border=\"1\" class=\"dataframe\">\n",
       "  <thead>\n",
       "    <tr style=\"text-align: right;\">\n",
       "      <th></th>\n",
       "      <th>sum</th>\n",
       "    </tr>\n",
       "    <tr>\n",
       "      <th>Partner</th>\n",
       "      <th></th>\n",
       "    </tr>\n",
       "  </thead>\n",
       "  <tbody>\n",
       "    <tr>\n",
       "      <th>Slovenia</th>\n",
       "      <td>11.41</td>\n",
       "    </tr>\n",
       "    <tr>\n",
       "      <th>Latvia</th>\n",
       "      <td>224.63</td>\n",
       "    </tr>\n",
       "    <tr>\n",
       "      <th>Croatia</th>\n",
       "      <td>315.71</td>\n",
       "    </tr>\n",
       "    <tr>\n",
       "      <th>Bulgaria</th>\n",
       "      <td>326.66</td>\n",
       "    </tr>\n",
       "    <tr>\n",
       "      <th>Slovakia</th>\n",
       "      <td>412.09</td>\n",
       "    </tr>\n",
       "    <tr>\n",
       "      <th>Lithuania</th>\n",
       "      <td>2012.71</td>\n",
       "    </tr>\n",
       "    <tr>\n",
       "      <th>Estonia</th>\n",
       "      <td>2420.81</td>\n",
       "    </tr>\n",
       "    <tr>\n",
       "      <th>Ukraine</th>\n",
       "      <td>2586.58</td>\n",
       "    </tr>\n",
       "    <tr>\n",
       "      <th>Israel</th>\n",
       "      <td>2744.22</td>\n",
       "    </tr>\n",
       "    <tr>\n",
       "      <th>New Zealand</th>\n",
       "      <td>5075.11</td>\n",
       "    </tr>\n",
       "    <tr>\n",
       "      <th>Bermuda</th>\n",
       "      <td>6936.51</td>\n",
       "    </tr>\n",
       "    <tr>\n",
       "      <th>Saint Kitts and Nevis</th>\n",
       "      <td>7533.36</td>\n",
       "    </tr>\n",
       "  </tbody>\n",
       "</table>\n",
       "</div>"
      ],
      "text/plain": [
       "                           sum\n",
       "Partner                       \n",
       "Slovenia                 11.41\n",
       "Latvia                  224.63\n",
       "Croatia                 315.71\n",
       "Bulgaria                326.66\n",
       "Slovakia                412.09\n",
       "Lithuania              2012.71\n",
       "Estonia                2420.81\n",
       "Ukraine                2586.58\n",
       "Israel                 2744.22\n",
       "New Zealand            5075.11\n",
       "Bermuda                6936.51\n",
       "Saint Kitts and Nevis  7533.36"
      ]
     },
     "execution_count": 233,
     "metadata": {},
     "output_type": "execute_result"
    }
   ],
   "source": [
    "export_group = exports.groupby(PARTNER)[VALUE].agg([sum]).sort_values('sum')\n",
    "\n",
    "mean_exports = round(export_group.mean()['sum'])\n",
    "median_exports = round(export_group.median()['sum'])\n",
    "lower_decile = round(export_group.quantile(0.1)['sum'])\n",
    "\n",
    "export_group['sum'] = export_group['sum'].apply(lambda x: float(f'{x:.2f}'))\n",
    "\n",
    "lower_decile_countries = export_group[export_group['sum'] < lower_decile]\n",
    "\n",
    "print(f\"The mean for exports is ${mean_exports}.\\nThe median is ${median_exports}.\\nThe lower decile is ${lower_decile}.\\n\")\n",
    "\n",
    "print(\"Bottom 10% of importers\")\n",
    "lower_decile_countries\n"
   ]
  },
  {
   "cell_type": "markdown",
   "metadata": {},
   "source": [
    "## Conclusions\n",
    "\n",
    "The UK exports to many more countries than it imports from (120 vs 25) and total exports are $335 million higher than imports. The top 14 countries it exports to regularly (both commodities every month) account for 71.75% of its exports.\n",
    "\n",
    "Ireland is the partner that the UK trades most with by quite a large margin. France, Netherlands and Germany are also good trade partners."
   ]
  }
 ],
 "metadata": {
  "kernelspec": {
   "display_name": "base",
   "language": "python",
   "name": "python3"
  },
  "language_info": {
   "codemirror_mode": {
    "name": "ipython",
    "version": 3
   },
   "file_extension": ".py",
   "mimetype": "text/x-python",
   "name": "python",
   "nbconvert_exporter": "python",
   "pygments_lexer": "ipython3",
   "version": "3.9.13"
  }
 },
 "nbformat": 4,
 "nbformat_minor": 2
}
