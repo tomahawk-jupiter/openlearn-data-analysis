{
 "cells": [
  {
   "cell_type": "markdown",
   "metadata": {},
   "source": [
    "# TB Deaths by Country"
   ]
  },
  {
   "cell_type": "code",
   "execution_count": 22,
   "metadata": {},
   "outputs": [
    {
     "name": "stdout",
     "output_type": "stream",
     "text": [
      "1.4.4\n"
     ]
    }
   ],
   "source": [
    "import pandas as pd\n",
    "print(pd.__version__) # check its working"
   ]
  },
  {
   "cell_type": "markdown",
   "metadata": {},
   "source": [
    "## Read and explore data"
   ]
  },
  {
   "cell_type": "code",
   "execution_count": 23,
   "metadata": {},
   "outputs": [
    {
     "data": {
      "text/html": [
       "<div>\n",
       "<style scoped>\n",
       "    .dataframe tbody tr th:only-of-type {\n",
       "        vertical-align: middle;\n",
       "    }\n",
       "\n",
       "    .dataframe tbody tr th {\n",
       "        vertical-align: top;\n",
       "    }\n",
       "\n",
       "    .dataframe thead th {\n",
       "        text-align: right;\n",
       "    }\n",
       "</style>\n",
       "<table border=\"1\" class=\"dataframe\">\n",
       "  <thead>\n",
       "    <tr style=\"text-align: right;\">\n",
       "      <th></th>\n",
       "      <th>Country</th>\n",
       "      <th>Population (1000s)</th>\n",
       "      <th>TB deaths</th>\n",
       "    </tr>\n",
       "  </thead>\n",
       "  <tbody>\n",
       "    <tr>\n",
       "      <th>0</th>\n",
       "      <td>Afghanistan</td>\n",
       "      <td>30552</td>\n",
       "      <td>13000.00</td>\n",
       "    </tr>\n",
       "    <tr>\n",
       "      <th>1</th>\n",
       "      <td>Albania</td>\n",
       "      <td>3173</td>\n",
       "      <td>20.00</td>\n",
       "    </tr>\n",
       "    <tr>\n",
       "      <th>2</th>\n",
       "      <td>Algeria</td>\n",
       "      <td>39208</td>\n",
       "      <td>5100.00</td>\n",
       "    </tr>\n",
       "    <tr>\n",
       "      <th>3</th>\n",
       "      <td>Andorra</td>\n",
       "      <td>79</td>\n",
       "      <td>0.26</td>\n",
       "    </tr>\n",
       "    <tr>\n",
       "      <th>4</th>\n",
       "      <td>Angola</td>\n",
       "      <td>21472</td>\n",
       "      <td>6900.00</td>\n",
       "    </tr>\n",
       "  </tbody>\n",
       "</table>\n",
       "</div>"
      ],
      "text/plain": [
       "       Country  Population (1000s)  TB deaths\n",
       "0  Afghanistan               30552   13000.00\n",
       "1      Albania                3173      20.00\n",
       "2      Algeria               39208    5100.00\n",
       "3      Andorra                  79       0.26\n",
       "4       Angola               21472    6900.00"
      ]
     },
     "execution_count": 23,
     "metadata": {},
     "output_type": "execute_result"
    }
   ],
   "source": [
    "df = pd.read_excel('./pop-tb-all.xls')\n",
    "\n",
    "df.head(5)"
   ]
  },
  {
   "cell_type": "code",
   "execution_count": 24,
   "metadata": {},
   "outputs": [
    {
     "data": {
      "text/plain": [
       "<bound method DataFrame.info of                                 Country  Population (1000s)  TB deaths\n",
       "0                           Afghanistan               30552   13000.00\n",
       "1                               Albania                3173      20.00\n",
       "2                               Algeria               39208    5100.00\n",
       "3                               Andorra                  79       0.26\n",
       "4                                Angola               21472    6900.00\n",
       "..                                  ...                 ...        ...\n",
       "189  Venezuela (Bolivarian Republic of)               30405     480.00\n",
       "190                            Viet Nam               91680   17000.00\n",
       "191                               Yemen               24407     990.00\n",
       "192                              Zambia               14539    3600.00\n",
       "193                            Zimbabwe               14150    5700.00\n",
       "\n",
       "[194 rows x 3 columns]>"
      ]
     },
     "execution_count": 24,
     "metadata": {},
     "output_type": "execute_result"
    }
   ],
   "source": [
    "df.info"
   ]
  },
  {
   "cell_type": "code",
   "execution_count": 25,
   "metadata": {},
   "outputs": [
    {
     "data": {
      "text/html": [
       "<div>\n",
       "<style scoped>\n",
       "    .dataframe tbody tr th:only-of-type {\n",
       "        vertical-align: middle;\n",
       "    }\n",
       "\n",
       "    .dataframe tbody tr th {\n",
       "        vertical-align: top;\n",
       "    }\n",
       "\n",
       "    .dataframe thead th {\n",
       "        text-align: right;\n",
       "    }\n",
       "</style>\n",
       "<table border=\"1\" class=\"dataframe\">\n",
       "  <thead>\n",
       "    <tr style=\"text-align: right;\">\n",
       "      <th></th>\n",
       "      <th>Population (1000s)</th>\n",
       "      <th>TB deaths</th>\n",
       "    </tr>\n",
       "  </thead>\n",
       "  <tbody>\n",
       "    <tr>\n",
       "      <th>count</th>\n",
       "      <td>1.940000e+02</td>\n",
       "      <td>194.000000</td>\n",
       "    </tr>\n",
       "    <tr>\n",
       "      <th>mean</th>\n",
       "      <td>3.673247e+04</td>\n",
       "      <td>5529.267887</td>\n",
       "    </tr>\n",
       "    <tr>\n",
       "      <th>std</th>\n",
       "      <td>1.387328e+05</td>\n",
       "      <td>22657.260240</td>\n",
       "    </tr>\n",
       "    <tr>\n",
       "      <th>min</th>\n",
       "      <td>1.000000e+00</td>\n",
       "      <td>0.000000</td>\n",
       "    </tr>\n",
       "    <tr>\n",
       "      <th>25%</th>\n",
       "      <td>1.740250e+03</td>\n",
       "      <td>25.750000</td>\n",
       "    </tr>\n",
       "    <tr>\n",
       "      <th>50%</th>\n",
       "      <td>7.905500e+03</td>\n",
       "      <td>315.000000</td>\n",
       "    </tr>\n",
       "    <tr>\n",
       "      <th>75%</th>\n",
       "      <td>2.477300e+04</td>\n",
       "      <td>2200.000000</td>\n",
       "    </tr>\n",
       "    <tr>\n",
       "      <th>max</th>\n",
       "      <td>1.393337e+06</td>\n",
       "      <td>240000.000000</td>\n",
       "    </tr>\n",
       "  </tbody>\n",
       "</table>\n",
       "</div>"
      ],
      "text/plain": [
       "       Population (1000s)      TB deaths\n",
       "count        1.940000e+02     194.000000\n",
       "mean         3.673247e+04    5529.267887\n",
       "std          1.387328e+05   22657.260240\n",
       "min          1.000000e+00       0.000000\n",
       "25%          1.740250e+03      25.750000\n",
       "50%          7.905500e+03     315.000000\n",
       "75%          2.477300e+04    2200.000000\n",
       "max          1.393337e+06  240000.000000"
      ]
     },
     "execution_count": 25,
     "metadata": {},
     "output_type": "execute_result"
    }
   ],
   "source": [
    "df.describe()"
   ]
  },
  {
   "cell_type": "markdown",
   "metadata": {},
   "source": [
    "## Some Exercises"
   ]
  },
  {
   "cell_type": "markdown",
   "metadata": {},
   "source": [
    "### Q1. What is the total, smallest, largest, and average number of deaths due to TB? Include country names for min and max."
   ]
  },
  {
   "cell_type": "code",
   "execution_count": 26,
   "metadata": {},
   "outputs": [
    {
     "name": "stdout",
     "output_type": "stream",
     "text": [
      "Least deaths: 0.00 in San Marino\n",
      "Most deaths: 240000.00 in India\n",
      "Average deaths: 5529.27\n"
     ]
    }
   ],
   "source": [
    "column_name = 'TB deaths'\n",
    "\n",
    "# Find the country with the maximum 'TB deaths'\n",
    "max_index = df[column_name].idxmin() # index of min value in column\n",
    "min_country = df.loc[max_index, 'Country'] # Country value for that index\n",
    "min_death_count = df[column_name].min() # The min value in column\n",
    "\n",
    "# Find the country with the maximum 'TB deaths'. Same as above but for max\n",
    "max_index = df[column_name].idxmax()\n",
    "max_country = df.loc[max_index, 'Country']\n",
    "max_death_count = df[column_name].max()\n",
    "\n",
    "# Calculate the average 'TB deaths'\n",
    "average_death_count = df[column_name].mean()\n",
    "\n",
    "# Print the results with rounded numbers using python f string\n",
    "print(f\"Least deaths: {min_death_count:.2f} in {min_country}\")\n",
    "print(f\"Most deaths: {max_death_count:.2f} in {max_country}\")\n",
    "print(f\"Average deaths: {average_death_count:.2f}\")\n"
   ]
  },
  {
   "cell_type": "markdown",
   "metadata": {},
   "source": [
    "### Q2. What is the death rate (number of deaths divided by population) of each country?"
   ]
  },
  {
   "cell_type": "code",
   "execution_count": 27,
   "metadata": {},
   "outputs": [
    {
     "name": "stdout",
     "output_type": "stream",
     "text": [
      "       Country  Population (1000s)  TB deaths  Death rate\n",
      "0  Afghanistan               30552   13000.00    0.000426\n",
      "1      Albania                3173      20.00    0.000006\n",
      "2      Algeria               39208    5100.00    0.000130\n",
      "3      Andorra                  79       0.26    0.000003\n",
      "4       Angola               21472    6900.00    0.000321\n"
     ]
    }
   ],
   "source": [
    "df['Death rate'] = df['TB deaths'] / (df['Population (1000s)'] * 1000)\n",
    "\n",
    "print(df.head())\n"
   ]
  },
  {
   "cell_type": "markdown",
   "metadata": {},
   "source": [
    "### Q3. Which countries have the smallest and largest death rate?"
   ]
  },
  {
   "cell_type": "code",
   "execution_count": 28,
   "metadata": {},
   "outputs": [
    {
     "name": "stdout",
     "output_type": "stream",
     "text": [
      "The country with the minimum death rate is San Marino with a death rate of 0.000000 which is 0.000000%.\n",
      "The country with the maximum death rate is Djibouti with a death rate of 0.000997 which is 0.099656%.\n"
     ]
    }
   ],
   "source": [
    "min_country = df.loc[df['Death rate'].idxmin(), 'Country']\n",
    "min_death_rate = df['Death rate'].min()\n",
    "\n",
    "print(f\"The country with the minimum death rate is {min_country} with a death rate of {min_death_rate:.6f} which is {min_death_rate * 100:.6f}%.\")\n",
    "\n",
    "max_country = df.loc[df['Death rate'].idxmax(), 'Country']\n",
    "max_death_rate = df['Death rate'].max()\n",
    "\n",
    "print(f\"The country with the maximum death rate is {max_country} with a death rate of {max_death_rate:.6f} which is {max_death_rate * 100:.6f}%.\")"
   ]
  },
  {
   "cell_type": "markdown",
   "metadata": {},
   "source": [
    "### What order does `sort_values` sort in? Ans: ascending"
   ]
  },
  {
   "cell_type": "code",
   "execution_count": 29,
   "metadata": {},
   "outputs": [
    {
     "data": {
      "text/html": [
       "<div>\n",
       "<style scoped>\n",
       "    .dataframe tbody tr th:only-of-type {\n",
       "        vertical-align: middle;\n",
       "    }\n",
       "\n",
       "    .dataframe tbody tr th {\n",
       "        vertical-align: top;\n",
       "    }\n",
       "\n",
       "    .dataframe thead th {\n",
       "        text-align: right;\n",
       "    }\n",
       "</style>\n",
       "<table border=\"1\" class=\"dataframe\">\n",
       "  <thead>\n",
       "    <tr style=\"text-align: right;\">\n",
       "      <th></th>\n",
       "      <th>Country</th>\n",
       "      <th>Population (1000s)</th>\n",
       "      <th>TB deaths</th>\n",
       "      <th>Death rate</th>\n",
       "    </tr>\n",
       "  </thead>\n",
       "  <tbody>\n",
       "    <tr>\n",
       "      <th>125</th>\n",
       "      <td>Niue</td>\n",
       "      <td>1</td>\n",
       "      <td>0.01</td>\n",
       "      <td>0.000010</td>\n",
       "    </tr>\n",
       "    <tr>\n",
       "      <th>179</th>\n",
       "      <td>Tuvalu</td>\n",
       "      <td>10</td>\n",
       "      <td>2.80</td>\n",
       "      <td>0.000280</td>\n",
       "    </tr>\n",
       "    <tr>\n",
       "      <th>118</th>\n",
       "      <td>Nauru</td>\n",
       "      <td>10</td>\n",
       "      <td>0.67</td>\n",
       "      <td>0.000067</td>\n",
       "    </tr>\n",
       "    <tr>\n",
       "      <th>40</th>\n",
       "      <td>Cook Islands</td>\n",
       "      <td>21</td>\n",
       "      <td>0.41</td>\n",
       "      <td>0.000020</td>\n",
       "    </tr>\n",
       "    <tr>\n",
       "      <th>129</th>\n",
       "      <td>Palau</td>\n",
       "      <td>21</td>\n",
       "      <td>0.36</td>\n",
       "      <td>0.000017</td>\n",
       "    </tr>\n",
       "    <tr>\n",
       "      <th>...</th>\n",
       "      <td>...</td>\n",
       "      <td>...</td>\n",
       "      <td>...</td>\n",
       "      <td>...</td>\n",
       "    </tr>\n",
       "    <tr>\n",
       "      <th>23</th>\n",
       "      <td>Brazil</td>\n",
       "      <td>200362</td>\n",
       "      <td>4400.00</td>\n",
       "      <td>0.000022</td>\n",
       "    </tr>\n",
       "    <tr>\n",
       "      <th>78</th>\n",
       "      <td>Indonesia</td>\n",
       "      <td>249866</td>\n",
       "      <td>64000.00</td>\n",
       "      <td>0.000256</td>\n",
       "    </tr>\n",
       "    <tr>\n",
       "      <th>185</th>\n",
       "      <td>United States of America</td>\n",
       "      <td>320051</td>\n",
       "      <td>490.00</td>\n",
       "      <td>0.000002</td>\n",
       "    </tr>\n",
       "    <tr>\n",
       "      <th>77</th>\n",
       "      <td>India</td>\n",
       "      <td>1252140</td>\n",
       "      <td>240000.00</td>\n",
       "      <td>0.000192</td>\n",
       "    </tr>\n",
       "    <tr>\n",
       "      <th>36</th>\n",
       "      <td>China</td>\n",
       "      <td>1393337</td>\n",
       "      <td>41000.00</td>\n",
       "      <td>0.000029</td>\n",
       "    </tr>\n",
       "  </tbody>\n",
       "</table>\n",
       "<p>194 rows × 4 columns</p>\n",
       "</div>"
      ],
      "text/plain": [
       "                      Country  Population (1000s)  TB deaths  Death rate\n",
       "125                      Niue                   1       0.01    0.000010\n",
       "179                    Tuvalu                  10       2.80    0.000280\n",
       "118                     Nauru                  10       0.67    0.000067\n",
       "40               Cook Islands                  21       0.41    0.000020\n",
       "129                     Palau                  21       0.36    0.000017\n",
       "..                        ...                 ...        ...         ...\n",
       "23                     Brazil              200362    4400.00    0.000022\n",
       "78                  Indonesia              249866   64000.00    0.000256\n",
       "185  United States of America              320051     490.00    0.000002\n",
       "77                      India             1252140  240000.00    0.000192\n",
       "36                      China             1393337   41000.00    0.000029\n",
       "\n",
       "[194 rows x 4 columns]"
      ]
     },
     "execution_count": 29,
     "metadata": {},
     "output_type": "execute_result"
    }
   ],
   "source": [
    "df.sort_values(['Population (1000s)'])"
   ]
  },
  {
   "cell_type": "markdown",
   "metadata": {},
   "source": [
    "### Difference From Average\n",
    "\n",
    "What is the difference between the population of each country and the average population. Eg. countries_population - mean_population (both in 1000s)."
   ]
  },
  {
   "cell_type": "code",
   "execution_count": 30,
   "metadata": {},
   "outputs": [
    {
     "name": "stdout",
     "output_type": "stream",
     "text": [
      "The mean population is 36732.469072164946\n"
     ]
    },
    {
     "data": {
      "text/html": [
       "<div>\n",
       "<style scoped>\n",
       "    .dataframe tbody tr th:only-of-type {\n",
       "        vertical-align: middle;\n",
       "    }\n",
       "\n",
       "    .dataframe tbody tr th {\n",
       "        vertical-align: top;\n",
       "    }\n",
       "\n",
       "    .dataframe thead th {\n",
       "        text-align: right;\n",
       "    }\n",
       "</style>\n",
       "<table border=\"1\" class=\"dataframe\">\n",
       "  <thead>\n",
       "    <tr style=\"text-align: right;\">\n",
       "      <th></th>\n",
       "      <th>Country</th>\n",
       "      <th>Population (1000s)</th>\n",
       "      <th>TB deaths</th>\n",
       "      <th>Death rate</th>\n",
       "      <th>Diff_From_Average</th>\n",
       "    </tr>\n",
       "  </thead>\n",
       "  <tbody>\n",
       "    <tr>\n",
       "      <th>0</th>\n",
       "      <td>Afghanistan</td>\n",
       "      <td>30552</td>\n",
       "      <td>13000.00</td>\n",
       "      <td>0.000426</td>\n",
       "      <td>-6180.469072</td>\n",
       "    </tr>\n",
       "    <tr>\n",
       "      <th>1</th>\n",
       "      <td>Albania</td>\n",
       "      <td>3173</td>\n",
       "      <td>20.00</td>\n",
       "      <td>0.000006</td>\n",
       "      <td>-33559.469072</td>\n",
       "    </tr>\n",
       "    <tr>\n",
       "      <th>2</th>\n",
       "      <td>Algeria</td>\n",
       "      <td>39208</td>\n",
       "      <td>5100.00</td>\n",
       "      <td>0.000130</td>\n",
       "      <td>2475.530928</td>\n",
       "    </tr>\n",
       "    <tr>\n",
       "      <th>3</th>\n",
       "      <td>Andorra</td>\n",
       "      <td>79</td>\n",
       "      <td>0.26</td>\n",
       "      <td>0.000003</td>\n",
       "      <td>-36653.469072</td>\n",
       "    </tr>\n",
       "    <tr>\n",
       "      <th>4</th>\n",
       "      <td>Angola</td>\n",
       "      <td>21472</td>\n",
       "      <td>6900.00</td>\n",
       "      <td>0.000321</td>\n",
       "      <td>-15260.469072</td>\n",
       "    </tr>\n",
       "  </tbody>\n",
       "</table>\n",
       "</div>"
      ],
      "text/plain": [
       "       Country  Population (1000s)  TB deaths  Death rate  Diff_From_Average\n",
       "0  Afghanistan               30552   13000.00    0.000426       -6180.469072\n",
       "1      Albania                3173      20.00    0.000006      -33559.469072\n",
       "2      Algeria               39208    5100.00    0.000130        2475.530928\n",
       "3      Andorra                  79       0.26    0.000003      -36653.469072\n",
       "4       Angola               21472    6900.00    0.000321      -15260.469072"
      ]
     },
     "execution_count": 30,
     "metadata": {},
     "output_type": "execute_result"
    }
   ],
   "source": [
    "mean = df['Population (1000s)'].mean()\n",
    "df['Diff_From_Average'] = df['Population (1000s)'] - mean\n",
    "print(f\"The mean population is {mean}\")\n",
    "df.head()"
   ]
  },
  {
   "cell_type": "markdown",
   "metadata": {},
   "source": [
    "### Display a dataframe consisting of only those countries that start with C and whose population in 1000s, is less than 1000"
   ]
  },
  {
   "cell_type": "code",
   "execution_count": 31,
   "metadata": {},
   "outputs": [
    {
     "name": "stderr",
     "output_type": "stream",
     "text": [
      "/tmp/ipykernel_12006/1724922504.py:3: UserWarning: Boolean Series key will be reindexed to match DataFrame index.\n",
      "  c_countries[df['Population (1000s)'] < 1000]\n"
     ]
    },
    {
     "data": {
      "text/html": [
       "<div>\n",
       "<style scoped>\n",
       "    .dataframe tbody tr th:only-of-type {\n",
       "        vertical-align: middle;\n",
       "    }\n",
       "\n",
       "    .dataframe tbody tr th {\n",
       "        vertical-align: top;\n",
       "    }\n",
       "\n",
       "    .dataframe thead th {\n",
       "        text-align: right;\n",
       "    }\n",
       "</style>\n",
       "<table border=\"1\" class=\"dataframe\">\n",
       "  <thead>\n",
       "    <tr style=\"text-align: right;\">\n",
       "      <th></th>\n",
       "      <th>Country</th>\n",
       "      <th>Population (1000s)</th>\n",
       "      <th>TB deaths</th>\n",
       "      <th>Death rate</th>\n",
       "      <th>Diff_From_Average</th>\n",
       "    </tr>\n",
       "  </thead>\n",
       "  <tbody>\n",
       "    <tr>\n",
       "      <th>29</th>\n",
       "      <td>Cabo Verde</td>\n",
       "      <td>499</td>\n",
       "      <td>150.00</td>\n",
       "      <td>0.000301</td>\n",
       "      <td>-36233.469072</td>\n",
       "    </tr>\n",
       "    <tr>\n",
       "      <th>38</th>\n",
       "      <td>Comoros</td>\n",
       "      <td>735</td>\n",
       "      <td>58.00</td>\n",
       "      <td>0.000079</td>\n",
       "      <td>-35997.469072</td>\n",
       "    </tr>\n",
       "    <tr>\n",
       "      <th>40</th>\n",
       "      <td>Cook Islands</td>\n",
       "      <td>21</td>\n",
       "      <td>0.41</td>\n",
       "      <td>0.000020</td>\n",
       "      <td>-36711.469072</td>\n",
       "    </tr>\n",
       "  </tbody>\n",
       "</table>\n",
       "</div>"
      ],
      "text/plain": [
       "         Country  Population (1000s)  TB deaths  Death rate  Diff_From_Average\n",
       "29    Cabo Verde                 499     150.00    0.000301      -36233.469072\n",
       "38       Comoros                 735      58.00    0.000079      -35997.469072\n",
       "40  Cook Islands                  21       0.41    0.000020      -36711.469072"
      ]
     },
     "execution_count": 31,
     "metadata": {},
     "output_type": "execute_result"
    }
   ],
   "source": [
    "c_countries = df[(df['Country'] < 'D') & (df['Country'] >'C')]\n",
    "\n",
    "c_countries[df['Population (1000s)'] < 1000]"
   ]
  },
  {
   "cell_type": "markdown",
   "metadata": {},
   "source": [
    "### Q. Filter countries starting with P with population (in 1000s) less than 50000"
   ]
  },
  {
   "cell_type": "code",
   "execution_count": 34,
   "metadata": {},
   "outputs": [
    {
     "data": {
      "text/html": [
       "<div>\n",
       "<style scoped>\n",
       "    .dataframe tbody tr th:only-of-type {\n",
       "        vertical-align: middle;\n",
       "    }\n",
       "\n",
       "    .dataframe tbody tr th {\n",
       "        vertical-align: top;\n",
       "    }\n",
       "\n",
       "    .dataframe thead th {\n",
       "        text-align: right;\n",
       "    }\n",
       "</style>\n",
       "<table border=\"1\" class=\"dataframe\">\n",
       "  <thead>\n",
       "    <tr style=\"text-align: right;\">\n",
       "      <th></th>\n",
       "      <th>Country</th>\n",
       "      <th>Population (1000s)</th>\n",
       "      <th>TB deaths</th>\n",
       "      <th>Death rate</th>\n",
       "      <th>Diff_From_Average</th>\n",
       "    </tr>\n",
       "  </thead>\n",
       "  <tbody>\n",
       "    <tr>\n",
       "      <th>117</th>\n",
       "      <td>Namibia</td>\n",
       "      <td>2303</td>\n",
       "      <td>1300.00</td>\n",
       "      <td>5.644811e-04</td>\n",
       "      <td>-34429.469072</td>\n",
       "    </tr>\n",
       "    <tr>\n",
       "      <th>118</th>\n",
       "      <td>Nauru</td>\n",
       "      <td>10</td>\n",
       "      <td>0.67</td>\n",
       "      <td>6.700000e-05</td>\n",
       "      <td>-36722.469072</td>\n",
       "    </tr>\n",
       "    <tr>\n",
       "      <th>119</th>\n",
       "      <td>Nepal</td>\n",
       "      <td>27797</td>\n",
       "      <td>4600.00</td>\n",
       "      <td>1.654855e-04</td>\n",
       "      <td>-8935.469072</td>\n",
       "    </tr>\n",
       "    <tr>\n",
       "      <th>120</th>\n",
       "      <td>Netherlands</td>\n",
       "      <td>16759</td>\n",
       "      <td>20.00</td>\n",
       "      <td>1.193389e-06</td>\n",
       "      <td>-19973.469072</td>\n",
       "    </tr>\n",
       "    <tr>\n",
       "      <th>121</th>\n",
       "      <td>New Zealand</td>\n",
       "      <td>4506</td>\n",
       "      <td>6.30</td>\n",
       "      <td>1.398136e-06</td>\n",
       "      <td>-32226.469072</td>\n",
       "    </tr>\n",
       "    <tr>\n",
       "      <th>122</th>\n",
       "      <td>Nicaragua</td>\n",
       "      <td>6080</td>\n",
       "      <td>160.00</td>\n",
       "      <td>2.631579e-05</td>\n",
       "      <td>-30652.469072</td>\n",
       "    </tr>\n",
       "    <tr>\n",
       "      <th>123</th>\n",
       "      <td>Niger</td>\n",
       "      <td>17831</td>\n",
       "      <td>3100.00</td>\n",
       "      <td>1.738545e-04</td>\n",
       "      <td>-18901.469072</td>\n",
       "    </tr>\n",
       "    <tr>\n",
       "      <th>125</th>\n",
       "      <td>Niue</td>\n",
       "      <td>1</td>\n",
       "      <td>0.01</td>\n",
       "      <td>1.000000e-05</td>\n",
       "      <td>-36731.469072</td>\n",
       "    </tr>\n",
       "    <tr>\n",
       "      <th>126</th>\n",
       "      <td>Norway</td>\n",
       "      <td>5043</td>\n",
       "      <td>4.40</td>\n",
       "      <td>8.724965e-07</td>\n",
       "      <td>-31689.469072</td>\n",
       "    </tr>\n",
       "  </tbody>\n",
       "</table>\n",
       "</div>"
      ],
      "text/plain": [
       "         Country  Population (1000s)  TB deaths    Death rate  \\\n",
       "117      Namibia                2303    1300.00  5.644811e-04   \n",
       "118        Nauru                  10       0.67  6.700000e-05   \n",
       "119        Nepal               27797    4600.00  1.654855e-04   \n",
       "120  Netherlands               16759      20.00  1.193389e-06   \n",
       "121  New Zealand                4506       6.30  1.398136e-06   \n",
       "122    Nicaragua                6080     160.00  2.631579e-05   \n",
       "123        Niger               17831    3100.00  1.738545e-04   \n",
       "125         Niue                   1       0.01  1.000000e-05   \n",
       "126       Norway                5043       4.40  8.724965e-07   \n",
       "\n",
       "     Diff_From_Average  \n",
       "117      -34429.469072  \n",
       "118      -36722.469072  \n",
       "119       -8935.469072  \n",
       "120      -19973.469072  \n",
       "121      -32226.469072  \n",
       "122      -30652.469072  \n",
       "123      -18901.469072  \n",
       "125      -36731.469072  \n",
       "126      -31689.469072  "
      ]
     },
     "execution_count": 34,
     "metadata": {},
     "output_type": "execute_result"
    }
   ],
   "source": [
    "df[df['Country'].str.startswith('N') & (df['Population (1000s)'] < 50000)]\n"
   ]
  }
 ],
 "metadata": {
  "kernelspec": {
   "display_name": "base",
   "language": "python",
   "name": "python3"
  },
  "language_info": {
   "codemirror_mode": {
    "name": "ipython",
    "version": 3
   },
   "file_extension": ".py",
   "mimetype": "text/x-python",
   "name": "python",
   "nbconvert_exporter": "python",
   "pygments_lexer": "ipython3",
   "version": "3.9.13"
  }
 },
 "nbformat": 4,
 "nbformat_minor": 2
}
